{
  "nbformat": 4,
  "nbformat_minor": 0,
  "metadata": {
    "colab": {
      "provenance": []
    },
    "kernelspec": {
      "name": "python3",
      "display_name": "Python 3"
    },
    "language_info": {
      "name": "python"
    }
  },
  "cells": [
    {
      "cell_type": "code",
      "execution_count": 3,
      "metadata": {
        "colab": {
          "base_uri": "https://localhost:8080/"
        },
        "id": "dos1DW7kncX5",
        "outputId": "3d91bb07-500e-4d66-fa85-634e6f199a71"
      },
      "outputs": [
        {
          "output_type": "stream",
          "name": "stdout",
          "text": [
            "Initial DataFrame:\n",
            "      Name  Age\n",
            "0    Alice   25\n",
            "1      Bob   30\n",
            "2  Charles   35\n",
            "\n",
            "DataFrame created using a different method:\n",
            "      Name  Age\n",
            "0    Alice   25\n",
            "1      Bob   30\n",
            "2  Charlie   35\n",
            "\n",
            "DataFrame after adding a new column 'Score':\n",
            "      Name  Age  Score\n",
            "0    Alice   25     85\n",
            "1      Bob   30     90\n",
            "2  Charlie   35     95\n",
            "\n",
            "Grouped DataFrame by 'Age':\n",
            "     Score\n",
            "Age       \n",
            "25    85.0\n",
            "30    90.0\n",
            "35    95.0\n"
          ]
        }
      ],
      "source": [
        "import pandas as pd\n",
        "\n",
        "# Creating the initial DataFrame\n",
        "data = {'Name': ['Alice', 'Bob', 'Charles'],\n",
        "        'Age': [25, 30, 35]}\n",
        "df = pd.DataFrame(data)\n",
        "print(\"Initial DataFrame:\")\n",
        "print(df)\n",
        "\n",
        "# Creating another DataFrame using a different method\n",
        "data = [['Alice', 25], ['Bob', 30], ['Charlie', 35]]\n",
        "df = pd.DataFrame(data, columns=['Name', 'Age'])\n",
        "print(\"\\nDataFrame created using a different method:\")\n",
        "print(df)\n",
        "\n",
        "# Adding a new column 'Score'\n",
        "df['Score'] = [85, 90, 95]\n",
        "print(\"\\nDataFrame after adding a new column 'Score':\")\n",
        "print(df)\n",
        "\n",
        "# Grouping data by 'Age' and selecting numeric columns for aggregation\n",
        "grouped_df = df.groupby('Age').mean(numeric_only=True)\n",
        "print(\"\\nGrouped DataFrame by 'Age':\")\n",
        "print(grouped_df)\n",
        "\n",
        "\n"
      ]
    }
  ]
}