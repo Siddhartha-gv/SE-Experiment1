{
  "nbformat": 4,
  "nbformat_minor": 0,
  "metadata": {
    "colab": {
      "provenance": []
    },
    "kernelspec": {
      "name": "python3",
      "display_name": "Python 3"
    },
    "language_info": {
      "name": "python"
    }
  },
  "cells": [
    {
      "cell_type": "code",
      "execution_count": 8,
      "metadata": {
        "colab": {
          "base_uri": "https://localhost:8080/"
        },
        "id": "xGjd50ZpZvcx",
        "outputId": "a0812806-e920-4658-cac1-873b2f0dc239"
      },
      "outputs": [
        {
          "output_type": "stream",
          "name": "stdout",
          "text": [
            "Initial array:\n",
            "[1 2 3 4 5]\n",
            "Column to append:\n",
            "[[ 6]\n",
            " [ 7]\n",
            " [ 8]\n",
            " [ 9]\n",
            " [10]]\n",
            "After appending column-wise:\n",
            "[[ 1  6]\n",
            " [ 2  7]\n",
            " [ 3  8]\n",
            " [ 4  9]\n",
            " [ 5 10]]\n"
          ]
        }
      ],
      "source": [
        "import numpy as np\n",
        "\n",
        "# 1D array\n",
        "arr = np.array([1, 2, 3, 4, 5])\n",
        "print(\"Initial array:\")\n",
        "print(arr)\n",
        "\n",
        "col = np.arange(6, 11).reshape(-1, 1)\n",
        "print(\"Column to append:\")\n",
        "print(col)\n",
        "\n",
        "\n",
        "arr_reshaped = arr.reshape(-1, 1)\n",
        "result = np.append(arr_reshaped, col, axis=1)\n",
        "print(\"After appending column-wise:\")\n",
        "print(result)\n"
      ]
    },
    {
      "cell_type": "code",
      "source": [
        "import numpy as np\n",
        "\n",
        "# 2D array\n",
        "arr = np.array([[1, 2, 3, 4, 5]])\n",
        "print(\"Initial 2D array:\")\n",
        "print(arr)\n",
        "\n",
        "\n",
        "row = np.array([6, 7, 8, 9, 10]).reshape(1, -1)\n",
        "print(\"Row to append:\")\n",
        "print(row)\n",
        "\n",
        "result = np.append(arr, row, axis=0)\n",
        "print(\"After appending row-wise:\")\n",
        "print(result)\n"
      ],
      "metadata": {
        "colab": {
          "base_uri": "https://localhost:8080/"
        },
        "id": "RzDZN6YRkQBj",
        "outputId": "fb706e72-0888-4928-f7be-3842155c60f8"
      },
      "execution_count": 9,
      "outputs": [
        {
          "output_type": "stream",
          "name": "stdout",
          "text": [
            "Initial 2D array:\n",
            "[[1 2 3 4 5]]\n",
            "Row to append:\n",
            "[[ 6  7  8  9 10]]\n",
            "After appending row-wise:\n",
            "[[ 1  2  3  4  5]\n",
            " [ 6  7  8  9 10]]\n"
          ]
        }
      ]
    },
    {
      "cell_type": "code",
      "source": [
        "import numpy as np\n",
        "\n",
        "# 1D array\n",
        "arr_1d = np.array([1, 2, 3, 4, 5])\n",
        "print(\"1D array:\")\n",
        "print(arr_1d)\n",
        "\n",
        "# 2D array\n",
        "arr_2d = np.array([[1, 2, 3], [4, 5, 6]])\n",
        "print(\"2D array:\")\n",
        "print(arr_2d)"
      ],
      "metadata": {
        "colab": {
          "base_uri": "https://localhost:8080/"
        },
        "id": "ML2O9AODkW8u",
        "outputId": "8388f9e2-7201-4952-af26-5ce4a892ebd5"
      },
      "execution_count": 10,
      "outputs": [
        {
          "output_type": "stream",
          "name": "stdout",
          "text": [
            "1D array:\n",
            "[1 2 3 4 5]\n",
            "2D array:\n",
            "[[1 2 3]\n",
            " [4 5 6]]\n"
          ]
        }
      ]
    }
  ]
}